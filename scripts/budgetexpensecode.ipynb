{
 "cells": [
  {
   "cell_type": "code",
   "execution_count": 35,
   "id": "eb7370dd",
   "metadata": {},
   "outputs": [
    {
     "name": "stdout",
     "output_type": "stream",
     "text": [
      "Requirement already satisfied: azure-storage-blob in /Users/lflapple/anaconda3/lib/python3.10/site-packages (12.19.1)\n",
      "Requirement already satisfied: cryptography>=2.1.4 in /Users/lflapple/anaconda3/lib/python3.10/site-packages (from azure-storage-blob) (39.0.1)\n",
      "Requirement already satisfied: typing-extensions>=4.3.0 in /Users/lflapple/anaconda3/lib/python3.10/site-packages (from azure-storage-blob) (4.11.0)\n",
      "Requirement already satisfied: azure-core<2.0.0,>=1.28.0 in /Users/lflapple/anaconda3/lib/python3.10/site-packages (from azure-storage-blob) (1.30.1)\n",
      "Requirement already satisfied: isodate>=0.6.1 in /Users/lflapple/anaconda3/lib/python3.10/site-packages (from azure-storage-blob) (0.6.1)\n",
      "Requirement already satisfied: six>=1.11.0 in /Users/lflapple/anaconda3/lib/python3.10/site-packages (from azure-core<2.0.0,>=1.28.0->azure-storage-blob) (1.16.0)\n",
      "Requirement already satisfied: requests>=2.21.0 in /Users/lflapple/anaconda3/lib/python3.10/site-packages (from azure-core<2.0.0,>=1.28.0->azure-storage-blob) (2.28.1)\n",
      "Requirement already satisfied: cffi>=1.12 in /Users/lflapple/anaconda3/lib/python3.10/site-packages (from cryptography>=2.1.4->azure-storage-blob) (1.15.1)\n",
      "Requirement already satisfied: pycparser in /Users/lflapple/anaconda3/lib/python3.10/site-packages (from cffi>=1.12->cryptography>=2.1.4->azure-storage-blob) (2.21)\n",
      "Requirement already satisfied: charset-normalizer<3,>=2 in /Users/lflapple/anaconda3/lib/python3.10/site-packages (from requests>=2.21.0->azure-core<2.0.0,>=1.28.0->azure-storage-blob) (2.0.4)\n",
      "Requirement already satisfied: idna<4,>=2.5 in /Users/lflapple/anaconda3/lib/python3.10/site-packages (from requests>=2.21.0->azure-core<2.0.0,>=1.28.0->azure-storage-blob) (3.4)\n",
      "Requirement already satisfied: certifi>=2017.4.17 in /Users/lflapple/anaconda3/lib/python3.10/site-packages (from requests>=2.21.0->azure-core<2.0.0,>=1.28.0->azure-storage-blob) (2022.12.7)\n",
      "Requirement already satisfied: urllib3<1.27,>=1.21.1 in /Users/lflapple/anaconda3/lib/python3.10/site-packages (from requests>=2.21.0->azure-core<2.0.0,>=1.28.0->azure-storage-blob) (1.26.14)\n",
      "Collecting boto3\n",
      "  Downloading boto3-1.34.86-py3-none-any.whl (139 kB)\n",
      "\u001b[2K     \u001b[90m━━━━━━━━━━━━━━━━━━━━━━━━━━━━━━━━━━━━━━━\u001b[0m \u001b[32m139.3/139.3 kB\u001b[0m \u001b[31m3.7 MB/s\u001b[0m eta \u001b[36m0:00:00\u001b[0m\n",
      "\u001b[?25hCollecting s3transfer<0.11.0,>=0.10.0\n",
      "  Downloading s3transfer-0.10.1-py3-none-any.whl (82 kB)\n",
      "\u001b[2K     \u001b[90m━━━━━━━━━━━━━━━━━━━━━━━━━━━━━━━━━━━━━━━━\u001b[0m \u001b[32m82.2/82.2 kB\u001b[0m \u001b[31m11.9 MB/s\u001b[0m eta \u001b[36m0:00:00\u001b[0m\n",
      "\u001b[?25hCollecting botocore<1.35.0,>=1.34.86\n",
      "  Downloading botocore-1.34.86-py3-none-any.whl (12.1 MB)\n",
      "\u001b[2K     \u001b[90m━━━━━━━━━━━━━━━━━━━━━━━━━━━━━━━━━━━━━━━━\u001b[0m \u001b[32m12.1/12.1 MB\u001b[0m \u001b[31m38.0 MB/s\u001b[0m eta \u001b[36m0:00:00\u001b[0m00:01\u001b[0m00:01\u001b[0m\n",
      "\u001b[?25hRequirement already satisfied: jmespath<2.0.0,>=0.7.1 in /Users/lflapple/anaconda3/lib/python3.10/site-packages (from boto3) (0.10.0)\n",
      "Requirement already satisfied: python-dateutil<3.0.0,>=2.1 in /Users/lflapple/anaconda3/lib/python3.10/site-packages (from botocore<1.35.0,>=1.34.86->boto3) (2.8.2)\n",
      "Requirement already satisfied: urllib3!=2.2.0,<3,>=1.25.4 in /Users/lflapple/anaconda3/lib/python3.10/site-packages (from botocore<1.35.0,>=1.34.86->boto3) (1.26.14)\n",
      "Requirement already satisfied: six>=1.5 in /Users/lflapple/anaconda3/lib/python3.10/site-packages (from python-dateutil<3.0.0,>=2.1->botocore<1.35.0,>=1.34.86->boto3) (1.16.0)\n",
      "Installing collected packages: botocore, s3transfer, boto3\n",
      "Successfully installed boto3-1.34.86 botocore-1.34.86 s3transfer-0.10.1\n",
      "Requirement already satisfied: google_cloud-storage in /Users/lflapple/anaconda3/lib/python3.10/site-packages (2.16.0)\n",
      "Requirement already satisfied: google-auth<3.0dev,>=2.26.1 in /Users/lflapple/anaconda3/lib/python3.10/site-packages (from google_cloud-storage) (2.29.0)\n",
      "Requirement already satisfied: google-api-core<3.0.0dev,>=2.15.0 in /Users/lflapple/anaconda3/lib/python3.10/site-packages (from google_cloud-storage) (2.18.0)\n",
      "Requirement already satisfied: google-crc32c<2.0dev,>=1.0 in /Users/lflapple/anaconda3/lib/python3.10/site-packages (from google_cloud-storage) (1.5.0)\n",
      "Requirement already satisfied: google-cloud-core<3.0dev,>=2.3.0 in /Users/lflapple/anaconda3/lib/python3.10/site-packages (from google_cloud-storage) (2.4.1)\n",
      "Requirement already satisfied: requests<3.0.0dev,>=2.18.0 in /Users/lflapple/anaconda3/lib/python3.10/site-packages (from google_cloud-storage) (2.28.1)\n",
      "Requirement already satisfied: google-resumable-media>=2.6.0 in /Users/lflapple/anaconda3/lib/python3.10/site-packages (from google_cloud-storage) (2.7.0)\n",
      "Requirement already satisfied: proto-plus<2.0.0dev,>=1.22.3 in /Users/lflapple/anaconda3/lib/python3.10/site-packages (from google-api-core<3.0.0dev,>=2.15.0->google_cloud-storage) (1.23.0)\n",
      "Requirement already satisfied: protobuf!=3.20.0,!=3.20.1,!=4.21.0,!=4.21.1,!=4.21.2,!=4.21.3,!=4.21.4,!=4.21.5,<5.0.0.dev0,>=3.19.5 in /Users/lflapple/anaconda3/lib/python3.10/site-packages (from google-api-core<3.0.0dev,>=2.15.0->google_cloud-storage) (4.25.3)\n",
      "Requirement already satisfied: googleapis-common-protos<2.0.dev0,>=1.56.2 in /Users/lflapple/anaconda3/lib/python3.10/site-packages (from google-api-core<3.0.0dev,>=2.15.0->google_cloud-storage) (1.63.0)\n",
      "Requirement already satisfied: cachetools<6.0,>=2.0.0 in /Users/lflapple/anaconda3/lib/python3.10/site-packages (from google-auth<3.0dev,>=2.26.1->google_cloud-storage) (5.3.3)\n",
      "Requirement already satisfied: rsa<5,>=3.1.4 in /Users/lflapple/anaconda3/lib/python3.10/site-packages (from google-auth<3.0dev,>=2.26.1->google_cloud-storage) (4.9)\n",
      "Requirement already satisfied: pyasn1-modules>=0.2.1 in /Users/lflapple/anaconda3/lib/python3.10/site-packages (from google-auth<3.0dev,>=2.26.1->google_cloud-storage) (0.2.8)\n",
      "Requirement already satisfied: urllib3<1.27,>=1.21.1 in /Users/lflapple/anaconda3/lib/python3.10/site-packages (from requests<3.0.0dev,>=2.18.0->google_cloud-storage) (1.26.14)\n",
      "Requirement already satisfied: charset-normalizer<3,>=2 in /Users/lflapple/anaconda3/lib/python3.10/site-packages (from requests<3.0.0dev,>=2.18.0->google_cloud-storage) (2.0.4)\n",
      "Requirement already satisfied: certifi>=2017.4.17 in /Users/lflapple/anaconda3/lib/python3.10/site-packages (from requests<3.0.0dev,>=2.18.0->google_cloud-storage) (2022.12.7)\n",
      "Requirement already satisfied: idna<4,>=2.5 in /Users/lflapple/anaconda3/lib/python3.10/site-packages (from requests<3.0.0dev,>=2.18.0->google_cloud-storage) (3.4)\n",
      "Requirement already satisfied: pyasn1<0.5.0,>=0.4.6 in /Users/lflapple/anaconda3/lib/python3.10/site-packages (from pyasn1-modules>=0.2.1->google-auth<3.0dev,>=2.26.1->google_cloud-storage) (0.4.8)\n"
     ]
    }
   ],
   "source": [
    "!pip install azure-storage-blob\n",
    "!pip install boto3\n",
    "!pip install google_cloud-storage"
   ]
  },
  {
   "cell_type": "code",
   "execution_count": 37,
   "id": "f7eafd88",
   "metadata": {},
   "outputs": [],
   "source": [
    "# import librairies\n",
    "import pandas as pd\n",
    "import numpy as np\n",
    "import json\n",
    "import requests\n",
    "import boto3\n",
    "from azure.storage.blob import BlobServiceClient, ContainerClient\n",
    "from google.cloud import storage\n",
    "from io import StringIO"
   ]
  },
  {
   "cell_type": "code",
   "execution_count": 22,
   "id": "1388b310",
   "metadata": {},
   "outputs": [],
   "source": [
    "#s1 -> Gather - Deccompress - Convert to Tabular - Clean → Reformat > Consolidation ->Transformation - Load"
   ]
  },
  {
   "cell_type": "code",
   "execution_count": 23,
   "id": "7ae220b4",
   "metadata": {},
   "outputs": [
    {
     "name": "stdout",
     "output_type": "stream",
     "text": [
      "   BUDGET_FISCAL_YEAR  THRU_QUARTER  DEPT_ROLLUP DEPT_ROLLUP_NAME  \\\n",
      "0                2024             2           11    Austin Energy   \n",
      "1                2024             2           11    Austin Energy   \n",
      "2                2024             2           11    Austin Energy   \n",
      "3                2024             2           11    Austin Energy   \n",
      "4                2024             2           11    Austin Energy   \n",
      "\n",
      "   DEPARTMENT_CODE DEPARTMENT_NAME FUND_CODE           FUND_NAME PROGRAM_CODE  \\\n",
      "0             1100   Austin Energy      5010  Austin Energy Fund         1PSM   \n",
      "1             1100   Austin Energy      5010  Austin Energy Fund         1PSM   \n",
      "2             1100   Austin Energy      5010  Austin Energy Fund         1PSM   \n",
      "3             1100   Austin Energy      5010  Austin Energy Fund         1PSM   \n",
      "4             1100   Austin Energy      5010  Austin Energy Fund         1PSM   \n",
      "\n",
      "                                        PROGRAM_NAME ACTIVITY_CODE  \\\n",
      "0  Power Generation, Market Operations & Resource...          1GEN   \n",
      "1  Power Generation, Market Operations & Resource...          1GEN   \n",
      "2  Power Generation, Market Operations & Resource...          1GEN   \n",
      "3  Power Generation, Market Operations & Resource...          1GEN   \n",
      "4  Power Generation, Market Operations & Resource...          1GEN   \n",
      "\n",
      "      ACTIVITY_NAME UNIT_CODE        UNIT_NAME EXPENSE_CODE  \\\n",
      "0  Power Generation      1124  Energy Products         5001   \n",
      "1  Power Generation      1124  Energy Products         5006   \n",
      "2  Power Generation      1124  Energy Products         5020   \n",
      "3  Power Generation      1124  Energy Products         5021   \n",
      "4  Power Generation      1124  Energy Products         5022   \n",
      "\n",
      "                EXPENSE_NAME   BUDGET  EXPENDITURES  \\\n",
      "0  Regular wages - full-time  80623.0      31938.24   \n",
      "1        Temporary employees  43395.0      17201.53   \n",
      "2               Vacation pay      0.0       4961.28   \n",
      "3                Holiday pay      0.0       2480.64   \n",
      "4               Accident pay      0.0          0.00   \n",
      "\n",
      "                               KEY  \n",
      "0  2024211110050101PSM1GEN11245001  \n",
      "1  2024211110050101PSM1GEN11245006  \n",
      "2  2024211110050101PSM1GEN11245020  \n",
      "3  2024211110050101PSM1GEN11245021  \n",
      "4  2024211110050101PSM1GEN11245022  \n"
     ]
    }
   ],
   "source": [
    "#import data by using laptop path\n",
    "file_path = \"/Users/lflapple/Desktop/9440/HW/Program_Budget_Operating_Budget_Vs_Expense_Raw_Data_20240417.csv\"\n",
    "df_raw = pd.read_csv(file_path)\n",
    "\n",
    "print(df_raw.head())\n",
    "\n",
    "\n"
   ]
  },
  {
   "cell_type": "code",
   "execution_count": 25,
   "id": "75fe94dc",
   "metadata": {},
   "outputs": [
    {
     "name": "stdout",
     "output_type": "stream",
     "text": [
      "   budget_fiscal_year  thru_quarter  dept_rollup dept_rollup_name  \\\n",
      "0                2024             2           11    Austin Energy   \n",
      "1                2024             2           11    Austin Energy   \n",
      "2                2024             2           11    Austin Energy   \n",
      "3                2024             2           11    Austin Energy   \n",
      "4                2024             2           11    Austin Energy   \n",
      "\n",
      "   department_code department_name  fund_code           fund_name  \\\n",
      "0             1100   Austin Energy       5010  Austin Energy Fund   \n",
      "1             1100   Austin Energy       5010  Austin Energy Fund   \n",
      "2             1100   Austin Energy       5010  Austin Energy Fund   \n",
      "3             1100   Austin Energy       5010  Austin Energy Fund   \n",
      "4             1100   Austin Energy       5010  Austin Energy Fund   \n",
      "\n",
      "  program_code                                       program_name  \\\n",
      "0         1PSM  Power Generation, Market Operations & Resource...   \n",
      "1         1PSM  Power Generation, Market Operations & Resource...   \n",
      "2         1PSM  Power Generation, Market Operations & Resource...   \n",
      "3         1PSM  Power Generation, Market Operations & Resource...   \n",
      "4         1PSM  Power Generation, Market Operations & Resource...   \n",
      "\n",
      "  activity_code     activity_name  unit_code        unit_name  expense_code  \\\n",
      "0          1GEN  Power Generation       1124  Energy Products          5001   \n",
      "1          1GEN  Power Generation       1124  Energy Products          5006   \n",
      "2          1GEN  Power Generation       1124  Energy Products          5020   \n",
      "3          1GEN  Power Generation       1124  Energy Products          5021   \n",
      "4          1GEN  Power Generation       1124  Energy Products          5022   \n",
      "\n",
      "                expense_name  budget  expenditures  \\\n",
      "0  Regular wages - full-time   80623      31938.24   \n",
      "1        Temporary employees   43395      17201.53   \n",
      "2               Vacation pay       0       4961.28   \n",
      "3                Holiday pay       0       2480.64   \n",
      "4               Accident pay       0          0.00   \n",
      "\n",
      "                               key  \n",
      "0  2024211110050101PSM1GEN11245001  \n",
      "1  2024211110050101PSM1GEN11245006  \n",
      "2  2024211110050101PSM1GEN11245020  \n",
      "3  2024211110050101PSM1GEN11245021  \n",
      "4  2024211110050101PSM1GEN11245022  \n"
     ]
    }
   ],
   "source": [
    "import pandas as pd\n",
    "import requests\n",
    "from io import StringIO\n",
    "\n",
    "# API Endpoint\n",
    "api_endpoint = \"https://data.austintexas.gov/resource/g5k8-8sud.csv?$query=SELECT%0A%20%20%60budget_fiscal_year%60%2C%0A%20%20%60thru_quarter%60%2C%0A%20%20%60dept_rollup%60%2C%0A%20%20%60dept_rollup_name%60%2C%0A%20%20%60department_code%60%2C%0A%20%20%60department_name%60%2C%0A%20%20%60fund_code%60%2C%0A%20%20%60fund_name%60%2C%0A%20%20%60program_code%60%2C%0A%20%20%60program_name%60%2C%0A%20%20%60activity_code%60%2C%0A%20%20%60activity_name%60%2C%0A%20%20%60unit_code%60%2C%0A%20%20%60unit_name%60%2C%0A%20%20%60expense_code%60%2C%0A%20%20%60expense_name%60%2C%0A%20%20%60budget%60%2C%0A%20%20%60expenditures%60%2C%0A%20%20%60key%60\"\n",
    "\n",
    "# Send GET request and get response\n",
    "response = requests.get(api_endpoint)\n",
    "\n",
    "# Check response status\n",
    "if response.status_code == 200:\n",
    "    # Read CSV data from response content\n",
    "    csv_data = StringIO(response.text)\n",
    "    \n",
    "    # Load CSV data into DataFrame\n",
    "    df = pd.read_csv(csv_data)\n",
    "    print(df.head())  # Print first few rows of data\n",
    "else:\n",
    "    print(\"Failed to fetch data from API\")\n",
    "\n"
   ]
  },
  {
   "cell_type": "code",
   "execution_count": 26,
   "id": "505bc6eb",
   "metadata": {},
   "outputs": [
    {
     "name": "stdout",
     "output_type": "stream",
     "text": [
      "(56523, 19)\n"
     ]
    }
   ],
   "source": [
    "print(df_raw.shape)"
   ]
  },
  {
   "cell_type": "code",
   "execution_count": 28,
   "id": "a913722f",
   "metadata": {},
   "outputs": [
    {
     "name": "stdout",
     "output_type": "stream",
     "text": [
      "Index(['BUDGET_FISCAL_YEAR', 'THRU_QUARTER', 'DEPT_ROLLUP', 'DEPT_ROLLUP_NAME',\n",
      "       'DEPARTMENT_CODE', 'DEPARTMENT_NAME', 'FUND_CODE', 'FUND_NAME',\n",
      "       'PROGRAM_CODE', 'PROGRAM_NAME', 'ACTIVITY_CODE', 'ACTIVITY_NAME',\n",
      "       'UNIT_CODE', 'UNIT_NAME', 'EXPENSE_CODE', 'EXPENSE_NAME', 'BUDGET',\n",
      "       'EXPENDITURES', 'KEY'],\n",
      "      dtype='object')\n"
     ]
    }
   ],
   "source": [
    "print(df_raw.columns)"
   ]
  },
  {
   "cell_type": "code",
   "execution_count": 30,
   "id": "b6177dd6",
   "metadata": {},
   "outputs": [
    {
     "data": {
      "text/plain": [
       "(56523, 19)"
      ]
     },
     "execution_count": 30,
     "metadata": {},
     "output_type": "execute_result"
    }
   ],
   "source": [
    "df_raw.dropna()\n",
    "df_raw.shape"
   ]
  },
  {
   "cell_type": "code",
   "execution_count": 31,
   "id": "5faaec5e",
   "metadata": {},
   "outputs": [
    {
     "name": "stdout",
     "output_type": "stream",
     "text": [
      "<class 'pandas.core.frame.DataFrame'>\n",
      "RangeIndex: 56523 entries, 0 to 56522\n",
      "Data columns (total 19 columns):\n",
      " #   Column              Non-Null Count  Dtype  \n",
      "---  ------              --------------  -----  \n",
      " 0   BUDGET_FISCAL_YEAR  56523 non-null  int64  \n",
      " 1   THRU_QUARTER        56523 non-null  int64  \n",
      " 2   DEPT_ROLLUP         56523 non-null  int64  \n",
      " 3   DEPT_ROLLUP_NAME    56523 non-null  object \n",
      " 4   DEPARTMENT_CODE     56523 non-null  int64  \n",
      " 5   DEPARTMENT_NAME     56523 non-null  object \n",
      " 6   FUND_CODE           56523 non-null  object \n",
      " 7   FUND_NAME           56523 non-null  object \n",
      " 8   PROGRAM_CODE        56523 non-null  object \n",
      " 9   PROGRAM_NAME        56523 non-null  object \n",
      " 10  ACTIVITY_CODE       56523 non-null  object \n",
      " 11  ACTIVITY_NAME       56523 non-null  object \n",
      " 12  UNIT_CODE           56523 non-null  object \n",
      " 13  UNIT_NAME           56523 non-null  object \n",
      " 14  EXPENSE_CODE        56523 non-null  object \n",
      " 15  EXPENSE_NAME        56523 non-null  object \n",
      " 16  BUDGET              56523 non-null  float64\n",
      " 17  EXPENDITURES        56523 non-null  float64\n",
      " 18  KEY                 56523 non-null  object \n",
      "dtypes: float64(2), int64(4), object(13)\n",
      "memory usage: 8.2+ MB\n"
     ]
    }
   ],
   "source": [
    "df_raw.info()\n",
    "#no null value"
   ]
  },
  {
   "cell_type": "code",
   "execution_count": 47,
   "id": "fb15d957",
   "metadata": {},
   "outputs": [],
   "source": [
    "# Function\n",
    "\n",
    "# Azure Functions\n",
    "def azure_upload_blob(connect_str, container_name, blob_name, data):\n",
    "    blob_service_client = BlobServiceClient.from_connection_string(connect_str)\n",
    "    blob_client = blob_service_client.get_blob_client(container=container_name, blob=blob_name)\n",
    "    blob_client.upload_blob(data, overwrite=True)\n",
    "    print(f\"Uploaded to Azure Blob: {blob_name}\")\n",
    "\n",
    "def azure_download_blob(connect_str, container_name, blob_name):\n",
    "    blob_service_client = BlobServiceClient.from_connection_string(connect_str)\n",
    "    blob_client = blob_service_client.get_blob_client(container=container_name, blob=blob_name)\n",
    "    download_stream = blob_client.download_blob()\n",
    "    return download_stream.readall()\n",
    "\n",
    "# Google Cloud Functions\n",
    "def google_upload_blob(bucket_name, source_file_name, destination_blob_name):\n",
    "    storage_client = storage.Client()\n",
    "    bucket = storage_client.bucket(bucket_name)\n",
    "    blob = bucket.blob(destination_blob_name)\n",
    "    blob.upload_from_filename(source_file_name)\n",
    "    print(f\"File {source_file_name} uploaded to {destination_blob_name}.\")\n",
    "\n",
    "def google_download_blob(bucket_name, source_blob_name, destination_file_name):\n",
    "    storage_client = storage.Client()\n",
    "    bucket = storage_client.bucket(bucket_name)\n",
    "    blob = bucket.blob(source_blob_name)\n",
    "    blob.download_to_filename(destination_file_name)\n",
    "    print(f\"Blob {source_blob_name} downloaded to {destination_file_name}.\")\n",
    "\n",
    "# AWS Functions\n",
    "def aws_upload_file(file_name, bucket, object_name=None):\n",
    "    if object_name is None:\n",
    "        object_name = os.path.basename(file_name)\n",
    "    s3_client = boto3.client('s3')\n",
    "    response = s3_client.upload_file(file_name, bucket, object_name)\n",
    "    print(f\"Uploaded {file_name} to S3 bucket {bucket}.\")\n",
    "\n",
    "def aws_download_file(bucket, object_name, file_name):\n",
    "    s3_client = boto3.client('s3')\n",
    "    s3_client.download_file(bucket, object_name, file_name)\n",
    "    print(f\"Downloaded {object_name} from S3 bucket {bucket}.\")"
   ]
  },
  {
   "cell_type": "code",
   "execution_count": 49,
   "id": "0a4001e9",
   "metadata": {},
   "outputs": [
    {
     "name": "stdout",
     "output_type": "stream",
     "text": [
      "Uploaded (blob_name) to Azure Blob Storage in container (CONTAINER_AZURE).\n"
     ]
    }
   ],
   "source": [
    "#specify the path to your json configuration file\n",
    "config_file_path ='config.json'\n",
    "\n",
    "# Load the JSON configuration file\n",
    "with open(config_file_path, 'r') as config_file:\n",
    "    config = json.load(config_file)\n",
    "#Print the configuration \n",
    "#Connection_STRING = config([\"connectionString\"])\n",
    "\n",
    "\n",
    "CONNECTION_STRING_AZURE_STORAGE = config[\"connectionString\"]\n",
    "CONTAINER_AZURE = 'budgetexpense'\n",
    "blob_name = \"budgetexpense_20240418.csv\"\n",
    "# Convert DataFrame to CSV\n",
    "output = StringIO()\n",
    "df_raw. to_csv (output, index=False)\n",
    "data = output. getvalue()\n",
    "output. close ( )\n",
    "\n",
    "# Create the BlobServiceClient object\n",
    "blob_service_client = BlobServiceClient.from_connection_string(CONNECTION_STRING_AZURE_STORAGE)\n",
    "\n",
    "# Get a blob client using the container name and blob name\n",
    "blob_client = blob_service_client.get_blob_client(container=CONTAINER_AZURE, blob=blob_name)\n",
    "\n",
    "# Upload the CSV data\n",
    "blob_client.upload_blob(data, overwrite=True)\n",
    "                                                  \n",
    "print(f\"Uploaded (blob_name) to Azure Blob Storage in container (CONTAINER_AZURE).\")"
   ]
  }
 ],
 "metadata": {
  "kernelspec": {
   "display_name": "Python 3 (ipykernel)",
   "language": "python",
   "name": "python3"
  },
  "language_info": {
   "codemirror_mode": {
    "name": "ipython",
    "version": 3
   },
   "file_extension": ".py",
   "mimetype": "text/x-python",
   "name": "python",
   "nbconvert_exporter": "python",
   "pygments_lexer": "ipython3",
   "version": "3.10.9"
  }
 },
 "nbformat": 4,
 "nbformat_minor": 5
}
