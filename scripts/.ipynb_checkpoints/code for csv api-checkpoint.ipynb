{
 "cells": [
  {
   "cell_type": "code",
   "execution_count": 3,
   "id": "83335145",
   "metadata": {},
   "outputs": [
    {
     "name": "stdout",
     "output_type": "stream",
     "text": [
      "Overwriting flask_app.py\n"
     ]
    }
   ],
   "source": [
    "%%writefile flask_app.py\n",
    "from flask import Flask, jsonify\n",
    "import pandas as pd\n",
    "\n",
    "app = Flask(__name__)\n",
    "\n",
    "\n",
    "csv_path = '/Users/lflapple/Desktop/9440/cis9440hw12/Data/thefact_table.csv'\n",
    "\n",
    "\n",
    "data = pd.read_csv(csv_path)\n",
    "\n",
    "@app.route('/data', methods=['GET'])\n",
    "def get_data():\n",
    "\n",
    "    return jsonify(data.to_dict(orient='records'))\n",
    "\n",
    "if __name__ == '__main__':\n",
    "    app.run(debug=True, port=5001)\n",
    "\n"
   ]
  },
  {
   "cell_type": "code",
   "execution_count": 6,
   "id": "71c17087",
   "metadata": {},
   "outputs": [],
   "source": [
    "#!python flask_app.py"
   ]
  },
  {
   "cell_type": "code",
   "execution_count": 5,
   "id": "61efbbd8",
   "metadata": {},
   "outputs": [],
   "source": [
    "#please use this url to data: http://127.0.0.1:5001/data"
   ]
  },
  {
   "cell_type": "code",
   "execution_count": null,
   "id": "630ce0c0",
   "metadata": {},
   "outputs": [],
   "source": []
  }
 ],
 "metadata": {
  "kernelspec": {
   "display_name": "Python 3 (ipykernel)",
   "language": "python",
   "name": "python3"
  },
  "language_info": {
   "codemirror_mode": {
    "name": "ipython",
    "version": 3
   },
   "file_extension": ".py",
   "mimetype": "text/x-python",
   "name": "python",
   "nbconvert_exporter": "python",
   "pygments_lexer": "ipython3",
   "version": "3.10.9"
  }
 },
 "nbformat": 4,
 "nbformat_minor": 5
}
